{
 "cells": [
  {
   "cell_type": "code",
   "execution_count": 1,
   "metadata": {},
   "outputs": [],
   "source": [
    "import os\n",
    "import time\n",
    "from dotenv import load_dotenv\n",
    "\n",
    "from pinecone.grpc import PineconeGRPC as Pinecone\n",
    "from pinecone import ServerlessSpec\n",
    "import google.generativeai as genai\n",
    "from langchain_text_splitters import RecursiveCharacterTextSplitter\n",
    "\n",
    "from articleCleaner import clean_all_articles\n",
    "from articleCleaner import clean_article\n",
    "from articleFetcher import fetchArticles\n",
    "from articleFetcher import fetchArticleById\n",
    "from embeddingFuncs import embedArticle\n",
    "from embeddingFuncs import embedChunksAsArticle\n",
    "from embeddingFuncs import generateQueryEmbedding\n",
    "\n",
    "# Load environment variables from .env file\n",
    "load_dotenv()\n",
    "\n",
    "# Access variables\n",
    "GOOGLE_GENAI_API_KEY = os.getenv(\"GOOGLE_GENAI_API_KEY\")\n",
    "PINECONE_API_KEY = os.getenv(\"PINECONE_API_KEY\")\n",
    "\n",
    "# Configure the Google Generative AI library\n",
    "genai.configure(api_key=GOOGLE_GENAI_API_KEY)\n",
    "\n",
    "# Configure the Pinecone database\n",
    "pc = Pinecone(api_key=PINECONE_API_KEY)\n",
    "\n",
    "# Constants used throughout\n",
    "EMBEDDING_MODEL = \"models/text-embedding-004\"\n",
    "MODEL_MAX_CHUNKS = 9500\n",
    "CHUNK_OVERLAP = 200"
   ]
  },
  {
   "cell_type": "markdown",
   "metadata": {},
   "source": [
    "# Fetch & Clean Articles"
   ]
  },
  {
   "cell_type": "code",
   "execution_count": 11,
   "metadata": {},
   "outputs": [
    {
     "name": "stdout",
     "output_type": "stream",
     "text": [
      "Successfully fetched articles from page 1\n",
      "100 articles successfully fetched\n"
     ]
    }
   ],
   "source": [
    "# Fetch articles\n",
    "STARTING_PAGE = 1\n",
    "ENDING_PAGE = 1\n",
    "articles = fetchArticles(starting_page=STARTING_PAGE, ending_page=ENDING_PAGE)\n",
    "\n",
    "if (articles != -1):\n",
    "    # Clean articles\n",
    "    print(len(articles), \"articles successfully fetched\")\n",
    "    clean_all_articles(articles)\n",
    "else:\n",
    "    print(\"Error fetching articles.\")"
   ]
  },
  {
   "cell_type": "markdown",
   "metadata": {},
   "source": [
    "# Create Pinecone Index (Only Run Once)"
   ]
  },
  {
   "cell_type": "code",
   "execution_count": 3,
   "metadata": {},
   "outputs": [],
   "source": [
    "# Create new Pinecone index (only run this once for one index)\n",
    "index_name = \"768dim\"\n",
    "\n",
    "# We still don't know what an index is :) maybe we won't ever know\n",
    "pc.create_index(\n",
    "    name=index_name,\n",
    "    dimension=768, # Replace with your model dimensions\n",
    "    metric=\"cosine\", # Replace with your model metric\n",
    "    spec=ServerlessSpec(\n",
    "        cloud=\"aws\",\n",
    "        region=\"us-west-2\"\n",
    "    ) \n",
    ")"
   ]
  },
  {
   "cell_type": "markdown",
   "metadata": {},
   "source": [
    "# Embed Articles\n"
   ]
  },
  {
   "cell_type": "code",
   "execution_count": 12,
   "metadata": {},
   "outputs": [
    {
     "name": "stdout",
     "output_type": "stream",
     "text": [
      "Skipping article with missing content or ID: {'id': 474939, 'date': '2024-11-23T16:38:50', 'date_gmt': '2024-11-24T00:38:50', 'guid': {'rendered': 'https://dailybruin.com/?p=474939'}, 'modified': '2024-11-25T14:35:18', 'modified_gmt': '2024-11-25T22:35:18', 'slug': 'live-ucla-vs-usc', 'status': 'publish', 'type': 'post', 'link': 'https://dailybruin.com/category/breaking/ucla-vs-usc-2024', 'title': {'rendered': 'UCLA football succumbs to USC in 2024 Battle for Los Angeles – as it happened'}, 'content': {'rendered': '', 'protected': False}, 'excerpt': {'rendered': '', 'protected': False}, 'author': 5669, 'featured_media': 475047, 'comment_status': 'open', 'ping_status': 'closed', 'sticky': False, 'template': '', 'format': 'standard', 'meta': {'ngg_post_thumbnail': 0}, 'categories': [1435, 1431], 'tags': [4849], 'acf': {'db_article_format': 'default', 'db_subhead': '', 'db_infobox': '', 'db_display_options': ['mugshot'], 'db_number_of_paws': '0', 'db_link': 'https://dailybruin.com/category/breaking/ucla-vs-usc-2024', 'db_gallery_id': '', 'db_authoremail': '', 'corrections': '', 'db_feature': False, 'db_feature_tag': '', 'db_feature_photoratio': 'horizontal', 'db_sponsored_disclaimer': 'This post was created by Bruin Media Group, the marketing section of the Daily Bruin. The editorial staff of the Daily Bruin played no role in the creation of this post and its content.', 'db_sponsored_styles': ''}, 'coauthors': [{'display_name': 'Daily Bruin Sports', 'user_nicename': 'daily-bruin-sports', 'id': 5669}], 'related_posts': [{'id': 469411}, {'id': 467920}, {'id': 467970}, {'id': 468319}], 'yoast_title': 'UCLA football succumbs to USC in 2024 Battle for Los Angeles – as it happened - Daily Bruin', 'yoast_meta': [{'name': 'robots', 'content': 'max-snippet:-1, max-image-preview:large, max-video-preview:-1'}, {'property': 'og:locale', 'content': 'en_US'}, {'property': 'og:type', 'content': 'article'}, {'property': 'og:title', 'content': 'UCLA football succumbs to USC in 2024 Battle for Los Angeles – as it happened - Daily Bruin'}, {'property': 'og:url', 'content': 'https://dailybruin.com/category/breaking/ucla-vs-usc-2024'}, {'property': 'og:site_name', 'content': 'Daily Bruin'}, {'property': 'article:publisher', 'content': 'https://www.facebook.com/dailybruin'}, {'property': 'og:image', 'content': 'https://wp.dailybruin.com/images/2024/11/IMG_7886-768x576.jpeg'}, {'property': 'og:image:secure_url', 'content': 'https://wp.dailybruin.com/images/2024/11/IMG_7886-768x576.jpeg'}, {'property': 'og:image:width', 'content': '768'}, {'property': 'og:image:height', 'content': '576'}, {'name': 'twitter:card', 'content': 'summary_large_image'}, {'name': 'twitter:title', 'content': 'UCLA football succumbs to USC in 2024 Battle for Los Angeles – as it happened - Daily Bruin'}, {'name': 'twitter:site', 'content': '@dailybruin'}, {'name': 'twitter:image', 'content': 'https://wp.dailybruin.com/images/2024/11/IMG_7886.jpeg'}, {'name': 'twitter:creator', 'content': '@dailybruin'}], 'yoast_json_ld': [{'@context': 'https://schema.org', '@graph': [{'@type': 'Organization', '@id': 'https://dailybruin.com/#organization', 'name': 'Daily Bruin', 'url': 'https://dailybruin.com/', 'sameAs': ['https://www.facebook.com/dailybruin', 'https://www.instagram.com/dailybruin', 'https://www.youtube.com/user/ucladailybruin', 'https://twitter.com/dailybruin'], 'logo': {'@type': 'ImageObject', '@id': 'https://dailybruin.com/#logo', 'inLanguage': 'en-US', 'url': 'https://wp.dailybruin.com/images/2017/03/db-logo.png', 'width': 750, 'height': 750, 'caption': 'Daily Bruin'}, 'image': {'@id': 'https://dailybruin.com/#logo'}}, {'@type': 'WebSite', '@id': 'https://dailybruin.com/#website', 'url': 'https://dailybruin.com/', 'name': 'Daily Bruin', 'inLanguage': 'en-US', 'description': 'Since 1919', 'publisher': {'@id': 'https://dailybruin.com/#organization'}, 'potentialAction': {'@type': 'SearchAction', 'target': 'https://dailybruin.com/?s={search_term_string}', 'query-input': 'required name=search_term_string'}}, {'@type': 'ImageObject', '@id': 'https://dailybruin.com/category/breaking/ucla-vs-usc-2024#primaryimage', 'inLanguage': 'en-US', 'url': 'https://wp.dailybruin.com/images/2024/11/IMG_7886.jpeg', 'width': 2520, 'height': 1890}, {'@type': 'WebPage', '@id': 'https://dailybruin.com/category/breaking/ucla-vs-usc-2024#webpage', 'url': 'https://dailybruin.com/category/breaking/ucla-vs-usc-2024', 'name': 'UCLA football succumbs to USC in 2024 Battle for Los Angeles – as it happened - Daily Bruin', 'isPartOf': {'@id': 'https://dailybruin.com/#website'}, 'inLanguage': 'en-US', 'primaryImageOfPage': {'@id': 'https://dailybruin.com/category/breaking/ucla-vs-usc-2024#primaryimage'}, 'datePublished': '2024-11-24T00:38:50+00:00', 'dateModified': '2024-11-25T22:35:18+00:00'}, {'@type': 'Article', '@id': 'https://dailybruin.com/category/breaking/ucla-vs-usc-2024#article', 'isPartOf': {'@id': 'https://dailybruin.com/category/breaking/ucla-vs-usc-2024#webpage'}, 'author': {'@id': 'https://dailybruin.com/#/schema/person/5b39d1f19b40d67267a189e8508d7f07'}, 'headline': 'UCLA football succumbs to USC in 2024 Battle for Los Angeles – as it happened', 'datePublished': '2024-11-24T00:38:50+00:00', 'dateModified': '2024-11-25T22:35:18+00:00', 'commentCount': 0, 'mainEntityOfPage': {'@id': 'https://dailybruin.com/category/breaking/ucla-vs-usc-2024#webpage'}, 'publisher': {'@id': 'https://dailybruin.com/#organization'}, 'image': {'@id': 'https://dailybruin.com/category/breaking/ucla-vs-usc-2024#primaryimage'}, 'keywords': 'db-story-c1', 'articleSection': 'Football,Sports', 'inLanguage': 'en-US'}, {'@type': ['Person'], '@id': 'https://dailybruin.com/#/schema/person/5b39d1f19b40d67267a189e8508d7f07', 'name': 'Daily Bruin Sports', 'image': {'@type': 'ImageObject', '@id': 'https://dailybruin.com/#authorlogo', 'inLanguage': 'en-US', 'url': 'https://secure.gravatar.com/avatar/05e1a3a097f1a1c6ade1cebc9ae1100a?s=96&d=mm&r=pg', 'caption': 'Daily Bruin Sports'}, 'sameAs': []}]}], '_links': {'self': [{'href': 'https://wp.dailybruin.com/wp-json/wp/v2/posts/474939'}], 'collection': [{'href': 'https://wp.dailybruin.com/wp-json/wp/v2/posts'}], 'about': [{'href': 'https://wp.dailybruin.com/wp-json/wp/v2/types/post'}], 'author': [{'embeddable': True, 'href': 'https://wp.dailybruin.com/wp-json/wp/v2/users/5669'}], 'replies': [{'embeddable': True, 'href': 'https://wp.dailybruin.com/wp-json/wp/v2/comments?post=474939'}], 'version-history': [{'count': 3, 'href': 'https://wp.dailybruin.com/wp-json/wp/v2/posts/474939/revisions'}], 'predecessor-version': [{'id': 475310, 'href': 'https://wp.dailybruin.com/wp-json/wp/v2/posts/474939/revisions/475310'}], 'wp:featuredmedia': [{'embeddable': True, 'href': 'https://wp.dailybruin.com/wp-json/wp/v2/media/475047'}], 'wp:attachment': [{'href': 'https://wp.dailybruin.com/wp-json/wp/v2/media?parent=474939'}], 'wp:term': [{'taxonomy': 'category', 'embeddable': True, 'href': 'https://wp.dailybruin.com/wp-json/wp/v2/categories?post=474939'}, {'taxonomy': 'post_tag', 'embeddable': True, 'href': 'https://wp.dailybruin.com/wp-json/wp/v2/tags?post=474939'}], 'curies': [{'name': 'wp', 'href': 'https://api.w.org/{rel}', 'templated': True}]}}\n",
      "Successfully embedded 99 articles\n"
     ]
    }
   ],
   "source": [
    "\n",
    "# Generate embeddings\n",
    "embeddings = []\n",
    "for article in articles:\n",
    "    content = article['content']['rendered']\n",
    "    article_id = str(article['id'])\n",
    "    \n",
    "    # Only run if there is both content to embed and an id to associate it with\n",
    "    if content and article_id:\n",
    "        try:\n",
    "            # Embed the article\n",
    "            embedArticle(genai, embeddings, EMBEDDING_MODEL, article)\n",
    "        \n",
    "        # The article may be too big. In that case, try splitting it into chunks\n",
    "        except Exception as e:\n",
    "            print(f\"Error generating embedding for article {article_id}: {e} (index {articles.index(article)}). Attempting to split into chunks...\")\n",
    "            \n",
    "            # Split text into chunks of up to 10000\n",
    "            text_splitter = RecursiveCharacterTextSplitter(chunk_size=(MODEL_MAX_CHUNKS-CHUNK_OVERLAP), chunk_overlap=CHUNK_OVERLAP)\n",
    "            texts = text_splitter.split_text(content)\n",
    "\n",
    "            # Embed the chunks\n",
    "            embed_success = embedChunksAsArticle(genai, embeddings, EMBEDDING_MODEL, article, texts)\n",
    "\n",
    "            # If the embed of chunks was successful, print to indicate\n",
    "            if (embed_success):\n",
    "                print(f\"Successfully split into {len(texts)} chunks.\")\n",
    "    # If the article is missing an id or content, skip it\n",
    "    else:\n",
    "        print(f\"Skipping article with missing content or ID: {article}\")\n",
    "\n",
    "print(f\"Successfully embedded {len(embeddings)} articles\")"
   ]
  },
  {
   "cell_type": "markdown",
   "metadata": {},
   "source": [
    "# Upsert Data"
   ]
  },
  {
   "cell_type": "code",
   "execution_count": 13,
   "metadata": {},
   "outputs": [
    {
     "data": {
      "text/plain": [
       "upserted_count: 99"
      ]
     },
     "execution_count": 13,
     "metadata": {},
     "output_type": "execute_result"
    }
   ],
   "source": [
    "# Wait for the index to be ready\n",
    "while not pc.describe_index(\"768dim\").status['ready']:\n",
    "    time.sleep(1)\n",
    "\n",
    "index = pc.Index(\"768dim\")\n",
    "\n",
    "index.upsert(\n",
    "    vectors=embeddings\n",
    ")"
   ]
  },
  {
   "cell_type": "code",
   "execution_count": 15,
   "metadata": {},
   "outputs": [
    {
     "name": "stdout",
     "output_type": "stream",
     "text": [
      "{'dimension': 768,\n",
      " 'index_fullness': 0.0,\n",
      " 'namespaces': {'': {'vector_count': 199}},\n",
      " 'total_vector_count': 199}\n"
     ]
    }
   ],
   "source": [
    "print(index.describe_index_stats())"
   ]
  },
  {
   "cell_type": "markdown",
   "metadata": {},
   "source": [
    "# Query"
   ]
  },
  {
   "cell_type": "code",
   "execution_count": 2,
   "metadata": {},
   "outputs": [],
   "source": [
    "query = \"Tell me about the UCLA vs USC rivalry week.\"\n",
    "\n",
    "embedding = generateQueryEmbedding(genai=genai,\n",
    "                                   embedding_model=EMBEDDING_MODEL,\n",
    "                                   query=query)\n"
   ]
  },
  {
   "cell_type": "code",
   "execution_count": 3,
   "metadata": {},
   "outputs": [
    {
     "name": "stdout",
     "output_type": "stream",
     "text": [
      "{'matches': [{'id': '474937',\n",
      "              'metadata': {'date': '2024-11-23T16:33:52',\n",
      "                           'date_gmt': '2024-11-24T00:33:52',\n",
      "                           'link': 'https://dailybruin.com/2024/11/23/474937/'},\n",
      "              'score': 0.73997164,\n",
      "              'sparse_values': {'indices': [], 'values': []},\n",
      "              'values': []},\n",
      "             {'id': '474946',\n",
      "              'metadata': {'date': '2024-11-23T16:46:44',\n",
      "                           'date_gmt': '2024-11-24T00:46:44',\n",
      "                           'link': 'https://dailybruin.com/2024/11/23/previewing-the-crosstown-showdown/'},\n",
      "              'score': 0.73772824,\n",
      "              'sparse_values': {'indices': [], 'values': []},\n",
      "              'values': []},\n",
      "             {'id': '474942',\n",
      "              'metadata': {'date': '2024-11-23T16:40:16',\n",
      "                           'date_gmt': '2024-11-24T00:40:16',\n",
      "                           'link': 'https://dailybruin.com/2024/11/23/good-evening-from-the-rose-bowl/'},\n",
      "              'score': 0.72282046,\n",
      "              'sparse_values': {'indices': [], 'values': []},\n",
      "              'values': []},\n",
      "             {'id': '475144',\n",
      "              'metadata': {'date': '2024-11-23T22:13:12',\n",
      "                           'date_gmt': '2024-11-24T06:13:12',\n",
      "                           'link': 'https://dailybruin.com/2024/11/23/reflections-at-the-end-of-quarter-3/'},\n",
      "              'score': 0.71754736,\n",
      "              'sparse_values': {'indices': [], 'values': []},\n",
      "              'values': []},\n",
      "             {'id': '474962',\n",
      "              'metadata': {'date': '2024-11-23T17:11:42',\n",
      "                           'date_gmt': '2024-11-24T01:11:42',\n",
      "                           'link': 'https://dailybruin.com/2024/11/23/battle-for-los-angeles/'},\n",
      "              'score': 0.70469207,\n",
      "              'sparse_values': {'indices': [], 'values': []},\n",
      "              'values': []}],\n",
      " 'namespace': '',\n",
      " 'usage': {'read_units': 6}}\n"
     ]
    }
   ],
   "source": [
    "# Wait for the index to be ready\n",
    "while not pc.describe_index(\"768dim\").status['ready']:\n",
    "    time.sleep(1)\n",
    "\n",
    "index = pc.Index(\"768dim\")\n",
    "\n",
    "results = index.query(\n",
    "    vector=embedding,\n",
    "    top_k=5,\n",
    "    include_values=False,\n",
    "    include_metadata=True\n",
    ")\n",
    "\n",
    "print(results)"
   ]
  },
  {
   "cell_type": "markdown",
   "metadata": {},
   "source": [
    "# Generate Response\n"
   ]
  },
  {
   "cell_type": "code",
   "execution_count": 28,
   "metadata": {},
   "outputs": [
    {
     "name": "stdout",
     "output_type": "stream",
     "text": [
      "This year's UCLA vs. USC game,  dubbed the \"Battle for Los Angeles,\"  is a crosstown showdown with significant implications.  It's the first time the teams, now both in the Big Ten, will face off as conference rivals.  The game is important for establishing which school is the top football program in Los Angeles and  bowl eligibility is on the line for both teams.  UCLA needs to win to become bowl-eligible, while USC needs to win this game or their next game against Notre Dame.  The rivalry is described as extending beyond football, impacting families and representing a broader school pride.  The game took place at the Rose Bowl on November 23rd, 2024, kicking off at 7:30 p.m.  By the end of the third quarter, UCLA had taken the lead, but USC was still within striking distance.\n",
      "\n"
     ]
    }
   ],
   "source": [
    "model = genai.GenerativeModel(\"gemini-1.5-flash\")\n",
    "\n",
    "context = \"\"\n",
    "\n",
    "for result in results['matches']:\n",
    "    id = result['id']\n",
    "    article = fetchArticleById(id)\n",
    "    cleanedArticle = clean_article(article)\n",
    "\n",
    "    link = result['metadata']['link']\n",
    "    context += f\"\"\"\\nARTICLE START (Source: {link})\\n\n",
    "    {cleanedArticle}\n",
    "    \\nARTICLE END\\n\n",
    "    \"\"\"\n",
    "\n",
    "instructions = f\"\"\"\n",
    "You are an expert in whatever context is provided. Provide only factual information that you can back up using the context. Only mention facts, while keeping a light tone. Act like you are responding direclty to a question as a human.\n",
    "DO NOT SHARE REFERENCE URLS THAT ARE NOT INCLUDED IN THE CONTEXT BLOCK.\n",
    "You will not apologize for previous responses, but instead will indicate new information was gained.\n",
    "If user asks about or refers to the current \"workspace\" AI will refer to the the content after START CONTEXT BLOCK and before END OF CONTEXT BLOCK as the CONTEXT BLOCK. \n",
    "If you are asked to give quotes, please bias towards providing reference links to the original source of the quote.\n",
    "You will take into account any CONTEXT BLOCK that is provided in a conversation. It will say it does not know if the CONTEXT BLOCK is empty.\n",
    "You will not invent anything that is not drawn directly from the context.\n",
    "You will not answer questions that are not related to the context.\n",
    "The question that is being asked is below. Respond directly to this question only with the context provided.\n",
    "START QUESTION BLOCK\n",
    "{query}\n",
    "END QUESTION BLOCK\n",
    "\n",
    "START CONTEXT BLOCK\n",
    "{context}\n",
    "END OF CONTEXT BLOCK\n",
    "\"\"\"\n",
    "\n",
    "response = model.generate_content(instructions)\n",
    "print(response.text)"
   ]
  }
 ],
 "metadata": {
  "kernelspec": {
   "display_name": "dbLLM",
   "language": "python",
   "name": "python3"
  },
  "language_info": {
   "codemirror_mode": {
    "name": "ipython",
    "version": 3
   },
   "file_extension": ".py",
   "mimetype": "text/x-python",
   "name": "python",
   "nbconvert_exporter": "python",
   "pygments_lexer": "ipython3",
   "version": "3.9.6"
  }
 },
 "nbformat": 4,
 "nbformat_minor": 2
}
