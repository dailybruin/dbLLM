{
 "cells": [
  {
   "cell_type": "code",
   "execution_count": 1,
   "metadata": {},
   "outputs": [],
   "source": [
    "import os\n",
    "import time\n",
    "from dotenv import load_dotenv\n",
    "\n",
    "from pinecone.grpc import PineconeGRPC as Pinecone\n",
    "from pinecone import ServerlessSpec\n",
    "import google.generativeai as genai\n",
    "from langchain_text_splitters import RecursiveCharacterTextSplitter\n",
    "\n",
    "from articleCleaner import clean_all_articles\n",
    "from articleCleaner import clean_article\n",
    "from articleFetcher import fetchArticles\n",
    "from articleFetcher import fetchArticleById\n",
    "from embeddingFuncs import embedArticle\n",
    "from embeddingFuncs import embedChunksAsArticle\n",
    "from embeddingFuncs import generateQueryEmbedding\n",
    "\n",
    "# Load environment variables from .env file\n",
    "load_dotenv()\n",
    "\n",
    "# Access variables\n",
    "GOOGLE_GENAI_API_KEY = os.getenv(\"GOOGLE_GENAI_API_KEY\")\n",
    "PINECONE_API_KEY = os.getenv(\"PINECONE_API_KEY\")\n",
    "\n",
    "# Configure the Google Generative AI library\n",
    "genai.configure(api_key=GOOGLE_GENAI_API_KEY)\n",
    "\n",
    "# Configure the Pinecone database\n",
    "pc = Pinecone(api_key=PINECONE_API_KEY)\n",
    "\n",
    "# Constants used throughout\n",
    "EMBEDDING_MODEL = \"models/text-embedding-004\"\n",
    "MODEL_MAX_CHUNKS = 9500\n",
    "CHUNK_OVERLAP = 200"
   ]
  },
  {
   "cell_type": "markdown",
   "metadata": {},
   "source": [
    "# Fetch & Clean Articles"
   ]
  },
  {
   "cell_type": "code",
   "execution_count": 16,
   "metadata": {},
   "outputs": [
    {
     "name": "stdout",
     "output_type": "stream",
     "text": [
      "Successfully fetched articles from page 1\n",
      "Successfully fetched articles from page 2\n",
      "Successfully fetched articles from page 3\n",
      "300 articles successfully fetched\n"
     ]
    }
   ],
   "source": [
    "# Fetch articles\n",
    "STARTING_PAGE = 1\n",
    "ENDING_PAGE = 3\n",
    "articles = fetchArticles(starting_page=STARTING_PAGE, ending_page=ENDING_PAGE)\n",
    "\n",
    "if (articles != -1):\n",
    "    # Clean articles\n",
    "    print(len(articles), \"articles successfully fetched\")\n",
    "    clean_all_articles(articles)\n",
    "else:\n",
    "    print(\"Error fetching articles.\")"
   ]
  },
  {
   "cell_type": "markdown",
   "metadata": {},
   "source": [
    "# Create Pinecone Index (Only Run Once)"
   ]
  },
  {
   "cell_type": "code",
   "execution_count": 3,
   "metadata": {},
   "outputs": [],
   "source": [
    "# Create new Pinecone index (only run this once for one index)\n",
    "index_name = \"768dim\"\n",
    "\n",
    "# We still don't know what an index is :) maybe we won't ever know\n",
    "pc.create_index(\n",
    "    name=index_name,\n",
    "    dimension=768, # Replace with your model dimensions\n",
    "    metric=\"cosine\", # Replace with your model metric\n",
    "    spec=ServerlessSpec(\n",
    "        cloud=\"aws\",\n",
    "        region=\"us-west-2\"\n",
    "    ) \n",
    ")"
   ]
  },
  {
   "cell_type": "markdown",
   "metadata": {},
   "source": [
    "# Embed Articles\n"
   ]
  },
  {
   "cell_type": "code",
   "execution_count": 17,
   "metadata": {},
   "outputs": [
    {
     "name": "stdout",
     "output_type": "stream",
     "text": [
      "Skipping article with missing content or ID: {'id': 474939, 'date': '2024-11-23T16:38:50', 'date_gmt': '2024-11-24T00:38:50', 'guid': {'rendered': 'https://dailybruin.com/?p=474939'}, 'modified': '2024-11-25T14:35:18', 'modified_gmt': '2024-11-25T22:35:18', 'slug': 'live-ucla-vs-usc', 'status': 'publish', 'type': 'post', 'link': 'https://dailybruin.com/category/breaking/ucla-vs-usc-2024', 'title': {'rendered': 'UCLA football succumbs to USC in 2024 Battle for Los Angeles – as it happened'}, 'content': {'rendered': '', 'protected': False}, 'excerpt': {'rendered': '', 'protected': False}, 'author': 5669, 'featured_media': 475047, 'comment_status': 'open', 'ping_status': 'closed', 'sticky': False, 'template': '', 'format': 'standard', 'meta': {'ngg_post_thumbnail': 0}, 'categories': [1435, 1431], 'tags': [4849], 'acf': {'db_article_format': 'default', 'db_subhead': '', 'db_infobox': '', 'db_display_options': ['mugshot'], 'db_number_of_paws': '0', 'db_link': 'https://dailybruin.com/category/breaking/ucla-vs-usc-2024', 'db_gallery_id': '', 'db_authoremail': '', 'corrections': '', 'db_feature': False, 'db_feature_tag': '', 'db_feature_photoratio': 'horizontal', 'db_sponsored_disclaimer': 'This post was created by Bruin Media Group, the marketing section of the Daily Bruin. The editorial staff of the Daily Bruin played no role in the creation of this post and its content.', 'db_sponsored_styles': ''}, 'coauthors': [{'display_name': 'Daily Bruin Sports', 'user_nicename': 'daily-bruin-sports', 'id': 5669}], 'related_posts': [{'id': 469411}, {'id': 467920}, {'id': 467970}, {'id': 468319}], 'yoast_title': 'UCLA football succumbs to USC in 2024 Battle for Los Angeles – as it happened - Daily Bruin', 'yoast_meta': [{'name': 'robots', 'content': 'max-snippet:-1, max-image-preview:large, max-video-preview:-1'}, {'property': 'og:locale', 'content': 'en_US'}, {'property': 'og:type', 'content': 'article'}, {'property': 'og:title', 'content': 'UCLA football succumbs to USC in 2024 Battle for Los Angeles – as it happened - Daily Bruin'}, {'property': 'og:url', 'content': 'https://dailybruin.com/category/breaking/ucla-vs-usc-2024'}, {'property': 'og:site_name', 'content': 'Daily Bruin'}, {'property': 'article:publisher', 'content': 'https://www.facebook.com/dailybruin'}, {'property': 'og:image', 'content': 'https://wp.dailybruin.com/images/2024/11/IMG_7886-768x576.jpeg'}, {'property': 'og:image:secure_url', 'content': 'https://wp.dailybruin.com/images/2024/11/IMG_7886-768x576.jpeg'}, {'property': 'og:image:width', 'content': '768'}, {'property': 'og:image:height', 'content': '576'}, {'name': 'twitter:card', 'content': 'summary_large_image'}, {'name': 'twitter:title', 'content': 'UCLA football succumbs to USC in 2024 Battle for Los Angeles – as it happened - Daily Bruin'}, {'name': 'twitter:site', 'content': '@dailybruin'}, {'name': 'twitter:image', 'content': 'https://wp.dailybruin.com/images/2024/11/IMG_7886.jpeg'}, {'name': 'twitter:creator', 'content': '@dailybruin'}], 'yoast_json_ld': [{'@context': 'https://schema.org', '@graph': [{'@type': 'Organization', '@id': 'https://dailybruin.com/#organization', 'name': 'Daily Bruin', 'url': 'https://dailybruin.com/', 'sameAs': ['https://www.facebook.com/dailybruin', 'https://www.instagram.com/dailybruin', 'https://www.youtube.com/user/ucladailybruin', 'https://twitter.com/dailybruin'], 'logo': {'@type': 'ImageObject', '@id': 'https://dailybruin.com/#logo', 'inLanguage': 'en-US', 'url': 'https://wp.dailybruin.com/images/2017/03/db-logo.png', 'width': 750, 'height': 750, 'caption': 'Daily Bruin'}, 'image': {'@id': 'https://dailybruin.com/#logo'}}, {'@type': 'WebSite', '@id': 'https://dailybruin.com/#website', 'url': 'https://dailybruin.com/', 'name': 'Daily Bruin', 'inLanguage': 'en-US', 'description': 'Since 1919', 'publisher': {'@id': 'https://dailybruin.com/#organization'}, 'potentialAction': {'@type': 'SearchAction', 'target': 'https://dailybruin.com/?s={search_term_string}', 'query-input': 'required name=search_term_string'}}, {'@type': 'ImageObject', '@id': 'https://dailybruin.com/category/breaking/ucla-vs-usc-2024#primaryimage', 'inLanguage': 'en-US', 'url': 'https://wp.dailybruin.com/images/2024/11/IMG_7886.jpeg', 'width': 2520, 'height': 1890}, {'@type': 'WebPage', '@id': 'https://dailybruin.com/category/breaking/ucla-vs-usc-2024#webpage', 'url': 'https://dailybruin.com/category/breaking/ucla-vs-usc-2024', 'name': 'UCLA football succumbs to USC in 2024 Battle for Los Angeles – as it happened - Daily Bruin', 'isPartOf': {'@id': 'https://dailybruin.com/#website'}, 'inLanguage': 'en-US', 'primaryImageOfPage': {'@id': 'https://dailybruin.com/category/breaking/ucla-vs-usc-2024#primaryimage'}, 'datePublished': '2024-11-24T00:38:50+00:00', 'dateModified': '2024-11-25T22:35:18+00:00'}, {'@type': 'Article', '@id': 'https://dailybruin.com/category/breaking/ucla-vs-usc-2024#article', 'isPartOf': {'@id': 'https://dailybruin.com/category/breaking/ucla-vs-usc-2024#webpage'}, 'author': {'@id': 'https://dailybruin.com/#/schema/person/5b39d1f19b40d67267a189e8508d7f07'}, 'headline': 'UCLA football succumbs to USC in 2024 Battle for Los Angeles – as it happened', 'datePublished': '2024-11-24T00:38:50+00:00', 'dateModified': '2024-11-25T22:35:18+00:00', 'commentCount': 0, 'mainEntityOfPage': {'@id': 'https://dailybruin.com/category/breaking/ucla-vs-usc-2024#webpage'}, 'publisher': {'@id': 'https://dailybruin.com/#organization'}, 'image': {'@id': 'https://dailybruin.com/category/breaking/ucla-vs-usc-2024#primaryimage'}, 'keywords': 'db-story-c1', 'articleSection': 'Football,Sports', 'inLanguage': 'en-US'}, {'@type': ['Person'], '@id': 'https://dailybruin.com/#/schema/person/5b39d1f19b40d67267a189e8508d7f07', 'name': 'Daily Bruin Sports', 'image': {'@type': 'ImageObject', '@id': 'https://dailybruin.com/#authorlogo', 'inLanguage': 'en-US', 'url': 'https://secure.gravatar.com/avatar/05e1a3a097f1a1c6ade1cebc9ae1100a?s=96&d=mm&r=pg', 'caption': 'Daily Bruin Sports'}, 'sameAs': []}]}], '_links': {'self': [{'href': 'https://wp.dailybruin.com/wp-json/wp/v2/posts/474939'}], 'collection': [{'href': 'https://wp.dailybruin.com/wp-json/wp/v2/posts'}], 'about': [{'href': 'https://wp.dailybruin.com/wp-json/wp/v2/types/post'}], 'author': [{'embeddable': True, 'href': 'https://wp.dailybruin.com/wp-json/wp/v2/users/5669'}], 'replies': [{'embeddable': True, 'href': 'https://wp.dailybruin.com/wp-json/wp/v2/comments?post=474939'}], 'version-history': [{'count': 3, 'href': 'https://wp.dailybruin.com/wp-json/wp/v2/posts/474939/revisions'}], 'predecessor-version': [{'id': 475310, 'href': 'https://wp.dailybruin.com/wp-json/wp/v2/posts/474939/revisions/475310'}], 'wp:featuredmedia': [{'embeddable': True, 'href': 'https://wp.dailybruin.com/wp-json/wp/v2/media/475047'}], 'wp:attachment': [{'href': 'https://wp.dailybruin.com/wp-json/wp/v2/media?parent=474939'}], 'wp:term': [{'taxonomy': 'category', 'embeddable': True, 'href': 'https://wp.dailybruin.com/wp-json/wp/v2/categories?post=474939'}, {'taxonomy': 'post_tag', 'embeddable': True, 'href': 'https://wp.dailybruin.com/wp-json/wp/v2/tags?post=474939'}], 'curies': [{'name': 'wp', 'href': 'https://api.w.org/{rel}', 'templated': True}]}}\n",
      "Skipping article with missing content or ID: {'id': 474862, 'date': '2024-11-22T11:08:38', 'date_gmt': '2024-11-22T19:08:38', 'guid': {'rendered': 'https://dailybruin.com/?p=474862'}, 'modified': '2024-11-24T00:18:07', 'modified_gmt': '2024-11-24T08:18:07', 'slug': 'rivalry-issue-2024', 'status': 'publish', 'type': 'post', 'link': 'https://features.dailybruin.com/2024/rivalry-issue-2024/', 'title': {'rendered': 'Rivalry Issue 2024'}, 'content': {'rendered': '', 'protected': False}, 'excerpt': {'rendered': '', 'protected': False}, 'author': 5011, 'featured_media': 474863, 'comment_status': 'open', 'ping_status': 'closed', 'sticky': False, 'template': '', 'format': 'standard', 'meta': {'ngg_post_thumbnail': 0}, 'categories': [1435, 12329, 1431], 'tags': [22897], 'acf': {'db_article_format': 'default', 'db_subhead': '', 'db_infobox': '', 'db_display_options': ['mugshot'], 'db_number_of_paws': '0', 'db_link': 'https://features.dailybruin.com/2024/rivalry-issue-2024/', 'db_gallery_id': '', 'db_authoremail': '', 'corrections': '', 'db_feature': False, 'db_feature_tag': '', 'db_feature_photoratio': 'horizontal', 'db_sponsored_disclaimer': 'This post was created by Bruin Media Group, the marketing section of the Daily Bruin. The editorial staff of the Daily Bruin played no role in the creation of this post and its content.', 'db_sponsored_styles': ''}, 'coauthors': [{'display_name': 'Special To The Daily Bruin', 'user_nicename': 'camayak_180', 'id': 5011}], 'related_posts': [{'id': 452449}, {'id': 465514}, {'id': 468258}, {'id': 469390}], 'yoast_title': 'Rivalry Issue 2024 - Daily Bruin', 'yoast_meta': [{'name': 'robots', 'content': 'max-snippet:-1, max-image-preview:large, max-video-preview:-1'}, {'property': 'og:locale', 'content': 'en_US'}, {'property': 'og:type', 'content': 'article'}, {'property': 'og:title', 'content': 'Rivalry Issue 2024 - Daily Bruin'}, {'property': 'og:url', 'content': 'https://features.dailybruin.com/2024/rivalry-issue-2024/'}, {'property': 'og:site_name', 'content': 'Daily Bruin'}, {'property': 'article:publisher', 'content': 'https://www.facebook.com/dailybruin'}, {'property': 'og:image', 'content': 'https://wp.dailybruin.com/images/2024/11/battle-for-la-rivalry-768x415.jpg'}, {'property': 'og:image:secure_url', 'content': 'https://wp.dailybruin.com/images/2024/11/battle-for-la-rivalry-768x415.jpg'}, {'property': 'og:image:width', 'content': '768'}, {'property': 'og:image:height', 'content': '415'}, {'name': 'twitter:card', 'content': 'summary_large_image'}, {'name': 'twitter:title', 'content': 'Rivalry Issue 2024 - Daily Bruin'}, {'name': 'twitter:site', 'content': '@dailybruin'}, {'name': 'twitter:image', 'content': 'https://wp.dailybruin.com/images/2024/11/battle-for-la-rivalry.jpg'}, {'name': 'twitter:creator', 'content': '@dailybruin'}], 'yoast_json_ld': [{'@context': 'https://schema.org', '@graph': [{'@type': 'Organization', '@id': 'https://dailybruin.com/#organization', 'name': 'Daily Bruin', 'url': 'https://dailybruin.com/', 'sameAs': ['https://www.facebook.com/dailybruin', 'https://www.instagram.com/dailybruin', 'https://www.youtube.com/user/ucladailybruin', 'https://twitter.com/dailybruin'], 'logo': {'@type': 'ImageObject', '@id': 'https://dailybruin.com/#logo', 'inLanguage': 'en-US', 'url': 'https://wp.dailybruin.com/images/2017/03/db-logo.png', 'width': 750, 'height': 750, 'caption': 'Daily Bruin'}, 'image': {'@id': 'https://dailybruin.com/#logo'}}, {'@type': 'WebSite', '@id': 'https://dailybruin.com/#website', 'url': 'https://dailybruin.com/', 'name': 'Daily Bruin', 'inLanguage': 'en-US', 'description': 'Since 1919', 'publisher': {'@id': 'https://dailybruin.com/#organization'}, 'potentialAction': {'@type': 'SearchAction', 'target': 'https://dailybruin.com/?s={search_term_string}', 'query-input': 'required name=search_term_string'}}, {'@type': 'ImageObject', '@id': 'https://features.dailybruin.com/2024/rivalry-issue-2024/#primaryimage', 'inLanguage': 'en-US', 'url': 'https://wp.dailybruin.com/images/2024/11/battle-for-la-rivalry.jpg', 'width': 2774, 'height': 1498}, {'@type': 'WebPage', '@id': 'https://features.dailybruin.com/2024/rivalry-issue-2024/#webpage', 'url': 'https://features.dailybruin.com/2024/rivalry-issue-2024/', 'name': 'Rivalry Issue 2024 - Daily Bruin', 'isPartOf': {'@id': 'https://dailybruin.com/#website'}, 'inLanguage': 'en-US', 'primaryImageOfPage': {'@id': 'https://features.dailybruin.com/2024/rivalry-issue-2024/#primaryimage'}, 'datePublished': '2024-11-22T19:08:38+00:00', 'dateModified': '2024-11-24T08:18:07+00:00'}, {'@type': 'Article', '@id': 'https://features.dailybruin.com/2024/rivalry-issue-2024/#article', 'isPartOf': {'@id': 'https://features.dailybruin.com/2024/rivalry-issue-2024/#webpage'}, 'author': {'@id': 'https://dailybruin.com/#/schema/person/c961a6100c45bb0d316248b22fae4cc7'}, 'headline': 'Rivalry Issue 2024', 'datePublished': '2024-11-22T19:08:38+00:00', 'dateModified': '2024-11-24T08:18:07+00:00', 'commentCount': 0, 'mainEntityOfPage': {'@id': 'https://features.dailybruin.com/2024/rivalry-issue-2024/#webpage'}, 'publisher': {'@id': 'https://dailybruin.com/#organization'}, 'image': {'@id': 'https://features.dailybruin.com/2024/rivalry-issue-2024/#primaryimage'}, 'keywords': 'db-story-f2', 'articleSection': 'Football,Interactive Page,Sports', 'inLanguage': 'en-US'}, {'@type': ['Person'], '@id': 'https://dailybruin.com/#/schema/person/c961a6100c45bb0d316248b22fae4cc7', 'name': 'Special To The Daily Bruin', 'image': {'@type': 'ImageObject', '@id': 'https://dailybruin.com/#authorlogo', 'inLanguage': 'en-US', 'url': 'https://secure.gravatar.com/avatar/2c7fd9ebde6a2d17de9937a7dd271ccc?s=96&d=mm&r=pg', 'caption': 'Special To The Daily Bruin'}, 'sameAs': []}]}], '_links': {'self': [{'href': 'https://wp.dailybruin.com/wp-json/wp/v2/posts/474862'}], 'collection': [{'href': 'https://wp.dailybruin.com/wp-json/wp/v2/posts'}], 'about': [{'href': 'https://wp.dailybruin.com/wp-json/wp/v2/types/post'}], 'author': [{'embeddable': True, 'href': 'https://wp.dailybruin.com/wp-json/wp/v2/users/5011'}], 'replies': [{'embeddable': True, 'href': 'https://wp.dailybruin.com/wp-json/wp/v2/comments?post=474862'}], 'version-history': [{'count': 1, 'href': 'https://wp.dailybruin.com/wp-json/wp/v2/posts/474862/revisions'}], 'predecessor-version': [{'id': 474864, 'href': 'https://wp.dailybruin.com/wp-json/wp/v2/posts/474862/revisions/474864'}], 'wp:featuredmedia': [{'embeddable': True, 'href': 'https://wp.dailybruin.com/wp-json/wp/v2/media/474863'}], 'wp:attachment': [{'href': 'https://wp.dailybruin.com/wp-json/wp/v2/media?parent=474862'}], 'wp:term': [{'taxonomy': 'category', 'embeddable': True, 'href': 'https://wp.dailybruin.com/wp-json/wp/v2/categories?post=474862'}, {'taxonomy': 'post_tag', 'embeddable': True, 'href': 'https://wp.dailybruin.com/wp-json/wp/v2/tags?post=474862'}], 'curies': [{'name': 'wp', 'href': 'https://api.w.org/{rel}', 'templated': True}]}}\n",
      "Error generating embedding for article 474805: 400 Request payload size exceeds the limit: 10000 bytes. (index 121). Attempting to split into chunks...\n",
      "Successfully split into 2 chunks.\n",
      "Error generating embedding for article 474792: 400 Request payload size exceeds the limit: 10000 bytes. (index 127). Attempting to split into chunks...\n",
      "Successfully split into 2 chunks.\n",
      "Error generating embedding for article 474726: 400 Request payload size exceeds the limit: 10000 bytes. (index 137). Attempting to split into chunks...\n",
      "Successfully split into 2 chunks.\n",
      "Skipping article with missing content or ID: {'id': 474339, 'date': '2024-11-20T08:06:50', 'date_gmt': '2024-11-20T16:06:50', 'guid': {'rendered': 'https://dailybruin.com/?p=474339'}, 'modified': '2024-11-20T09:03:55', 'modified_gmt': '2024-11-20T17:03:55', 'slug': 'live-uc-workers-strike', 'status': 'publish', 'type': 'post', 'link': 'https://dailybruin.com/category/breaking/uc-workers-strike', 'title': {'rendered': 'LIVE: UC workers strike'}, 'content': {'rendered': '', 'protected': False}, 'excerpt': {'rendered': '', 'protected': False}, 'author': 7831, 'featured_media': 471258, 'comment_status': 'open', 'ping_status': 'closed', 'sticky': False, 'template': '', 'format': 'standard', 'meta': {'ngg_post_thumbnail': 0}, 'categories': [27093, 1424], 'tags': [4849], 'acf': {'db_article_format': 'default', 'db_subhead': '', 'db_infobox': '', 'db_display_options': ['mugshot'], 'db_number_of_paws': '0', 'db_link': 'https://dailybruin.com/category/breaking/uc-workers-strike', 'db_gallery_id': '', 'db_authoremail': '', 'corrections': '', 'db_feature': False, 'db_feature_tag': '', 'db_feature_photoratio': 'horizontal', 'db_sponsored_disclaimer': 'This post was created by Bruin Media Group, the marketing section of the Daily Bruin. The editorial staff of the Daily Bruin played no role in the creation of this post and its content.', 'db_sponsored_styles': ''}, 'coauthors': [{'display_name': 'Daily Bruin News', 'user_nicename': 'dailybruinnews', 'id': 7831}], 'related_posts': [{'id': 446527}, {'id': 463083}, {'id': 464632}], 'yoast_title': 'LIVE: UC workers strike - Daily Bruin', 'yoast_meta': [{'name': 'robots', 'content': 'max-snippet:-1, max-image-preview:large, max-video-preview:-1'}, {'property': 'og:locale', 'content': 'en_US'}, {'property': 'og:type', 'content': 'article'}, {'property': 'og:title', 'content': 'LIVE: UC workers strike - Daily Bruin'}, {'property': 'og:url', 'content': 'https://dailybruin.com/category/breaking/uc-workers-strike'}, {'property': 'og:site_name', 'content': 'Daily Bruin'}, {'property': 'article:publisher', 'content': 'https://www.facebook.com/dailybruin'}, {'property': 'og:image', 'content': 'https://wp.dailybruin.com/images/2024/10/breaking.jpg'}, {'property': 'og:image:secure_url', 'content': 'https://wp.dailybruin.com/images/2024/10/breaking.jpg'}, {'property': 'og:image:width', 'content': '1564'}, {'property': 'og:image:height', 'content': '946'}, {'name': 'twitter:card', 'content': 'summary_large_image'}, {'name': 'twitter:title', 'content': 'LIVE: UC workers strike - Daily Bruin'}, {'name': 'twitter:site', 'content': '@dailybruin'}, {'name': 'twitter:image', 'content': 'https://wp.dailybruin.com/images/2024/10/breaking.jpg'}, {'name': 'twitter:creator', 'content': '@dailybruin'}], 'yoast_json_ld': [{'@context': 'https://schema.org', '@graph': [{'@type': 'Organization', '@id': 'https://dailybruin.com/#organization', 'name': 'Daily Bruin', 'url': 'https://dailybruin.com/', 'sameAs': ['https://www.facebook.com/dailybruin', 'https://www.instagram.com/dailybruin', 'https://www.youtube.com/user/ucladailybruin', 'https://twitter.com/dailybruin'], 'logo': {'@type': 'ImageObject', '@id': 'https://dailybruin.com/#logo', 'inLanguage': 'en-US', 'url': 'https://wp.dailybruin.com/images/2017/03/db-logo.png', 'width': 750, 'height': 750, 'caption': 'Daily Bruin'}, 'image': {'@id': 'https://dailybruin.com/#logo'}}, {'@type': 'WebSite', '@id': 'https://dailybruin.com/#website', 'url': 'https://dailybruin.com/', 'name': 'Daily Bruin', 'inLanguage': 'en-US', 'description': 'Since 1919', 'publisher': {'@id': 'https://dailybruin.com/#organization'}, 'potentialAction': {'@type': 'SearchAction', 'target': 'https://dailybruin.com/?s={search_term_string}', 'query-input': 'required name=search_term_string'}}, {'@type': 'ImageObject', '@id': 'https://dailybruin.com/category/breaking/uc-workers-strike#primaryimage', 'inLanguage': 'en-US', 'url': 'https://wp.dailybruin.com/images/2024/10/breaking.jpg', 'width': 1564, 'height': 946}, {'@type': 'WebPage', '@id': 'https://dailybruin.com/category/breaking/uc-workers-strike#webpage', 'url': 'https://dailybruin.com/category/breaking/uc-workers-strike', 'name': 'LIVE: UC workers strike - Daily Bruin', 'isPartOf': {'@id': 'https://dailybruin.com/#website'}, 'inLanguage': 'en-US', 'primaryImageOfPage': {'@id': 'https://dailybruin.com/category/breaking/uc-workers-strike#primaryimage'}, 'datePublished': '2024-11-20T16:06:50+00:00', 'dateModified': '2024-11-20T17:03:55+00:00'}, {'@type': 'Article', '@id': 'https://dailybruin.com/category/breaking/uc-workers-strike#article', 'isPartOf': {'@id': 'https://dailybruin.com/category/breaking/uc-workers-strike#webpage'}, 'author': {'@id': 'https://dailybruin.com/#/schema/person/9d07b1911825382fb1dceba5af2c68ab'}, 'headline': 'LIVE: UC workers strike', 'datePublished': '2024-11-20T16:06:50+00:00', 'dateModified': '2024-11-20T17:03:55+00:00', 'commentCount': 0, 'mainEntityOfPage': {'@id': 'https://dailybruin.com/category/breaking/uc-workers-strike#webpage'}, 'publisher': {'@id': 'https://dailybruin.com/#organization'}, 'image': {'@id': 'https://dailybruin.com/category/breaking/uc-workers-strike#primaryimage'}, 'keywords': 'db-story-c1', 'articleSection': 'Breaking News,News', 'inLanguage': 'en-US'}, {'@type': ['Person'], '@id': 'https://dailybruin.com/#/schema/person/9d07b1911825382fb1dceba5af2c68ab', 'name': 'Daily Bruin News', 'image': {'@type': 'ImageObject', '@id': 'https://dailybruin.com/#authorlogo', 'inLanguage': 'en-US', 'url': 'https://secure.gravatar.com/avatar/eaebb49e49deb58d3cca887c27eecc3e?s=96&d=mm&r=pg', 'caption': 'Daily Bruin News'}, 'sameAs': []}]}], '_links': {'self': [{'href': 'https://wp.dailybruin.com/wp-json/wp/v2/posts/474339'}], 'collection': [{'href': 'https://wp.dailybruin.com/wp-json/wp/v2/posts'}], 'about': [{'href': 'https://wp.dailybruin.com/wp-json/wp/v2/types/post'}], 'author': [{'embeddable': True, 'href': 'https://wp.dailybruin.com/wp-json/wp/v2/users/7831'}], 'replies': [{'embeddable': True, 'href': 'https://wp.dailybruin.com/wp-json/wp/v2/comments?post=474339'}], 'version-history': [{'count': 2, 'href': 'https://wp.dailybruin.com/wp-json/wp/v2/posts/474339/revisions'}], 'predecessor-version': [{'id': 474343, 'href': 'https://wp.dailybruin.com/wp-json/wp/v2/posts/474339/revisions/474343'}], 'wp:featuredmedia': [{'embeddable': True, 'href': 'https://wp.dailybruin.com/wp-json/wp/v2/media/471258'}], 'wp:attachment': [{'href': 'https://wp.dailybruin.com/wp-json/wp/v2/media?parent=474339'}], 'wp:term': [{'taxonomy': 'category', 'embeddable': True, 'href': 'https://wp.dailybruin.com/wp-json/wp/v2/categories?post=474339'}, {'taxonomy': 'post_tag', 'embeddable': True, 'href': 'https://wp.dailybruin.com/wp-json/wp/v2/tags?post=474339'}], 'curies': [{'name': 'wp', 'href': 'https://api.w.org/{rel}', 'templated': True}]}}\n",
      "Skipping article with missing content or ID: {'id': 474191, 'date': '2024-11-19T13:39:19', 'date_gmt': '2024-11-19T21:39:19', 'guid': {'rendered': 'https://dailybruin.com/?p=474191'}, 'modified': '2024-11-19T17:06:15', 'modified_gmt': '2024-11-20T01:06:15', 'slug': 'live-nov-19-students-for-justice-in-palestine-demonstration', 'status': 'publish', 'type': 'post', 'link': 'https://dailybruin.com/category/breaking/nov-19-sjp', 'title': {'rendered': 'Nov. 19 Students for Justice in Palestine demonstration'}, 'content': {'rendered': '', 'protected': False}, 'excerpt': {'rendered': '', 'protected': False}, 'author': 7831, 'featured_media': 471258, 'comment_status': 'open', 'ping_status': 'closed', 'sticky': False, 'template': '', 'format': 'standard', 'meta': {'ngg_post_thumbnail': 0}, 'categories': [27093, 1424], 'tags': [4849], 'acf': {'db_article_format': 'default', 'db_subhead': '', 'db_infobox': '', 'db_display_options': ['mugshot'], 'db_number_of_paws': '0', 'db_link': 'https://dailybruin.com/category/breaking/nov-19-sjp', 'db_gallery_id': '', 'db_authoremail': '', 'corrections': '', 'db_feature': False, 'db_feature_tag': '', 'db_feature_photoratio': 'horizontal', 'db_sponsored_disclaimer': 'This post was created by Bruin Media Group, the marketing section of the Daily Bruin. The editorial staff of the Daily Bruin played no role in the creation of this post and its content.', 'db_sponsored_styles': ''}, 'coauthors': [{'display_name': 'Daily Bruin News', 'user_nicename': 'dailybruinnews', 'id': 7831}], 'related_posts': [{'id': 471257}, {'id': 451913}, {'id': 453138}, {'id': 454499}], 'yoast_title': 'Nov. 19 Students for Justice in Palestine demonstration - Daily Bruin', 'yoast_meta': [{'name': 'robots', 'content': 'max-snippet:-1, max-image-preview:large, max-video-preview:-1'}, {'property': 'og:locale', 'content': 'en_US'}, {'property': 'og:type', 'content': 'article'}, {'property': 'og:title', 'content': 'Nov. 19 Students for Justice in Palestine demonstration - Daily Bruin'}, {'property': 'og:url', 'content': 'https://dailybruin.com/category/breaking/nov-19-sjp'}, {'property': 'og:site_name', 'content': 'Daily Bruin'}, {'property': 'article:publisher', 'content': 'https://www.facebook.com/dailybruin'}, {'property': 'og:image', 'content': 'https://wp.dailybruin.com/images/2024/10/breaking.jpg'}, {'property': 'og:image:secure_url', 'content': 'https://wp.dailybruin.com/images/2024/10/breaking.jpg'}, {'property': 'og:image:width', 'content': '1564'}, {'property': 'og:image:height', 'content': '946'}, {'name': 'twitter:card', 'content': 'summary_large_image'}, {'name': 'twitter:title', 'content': 'Nov. 19 Students for Justice in Palestine demonstration - Daily Bruin'}, {'name': 'twitter:site', 'content': '@dailybruin'}, {'name': 'twitter:image', 'content': 'https://wp.dailybruin.com/images/2024/10/breaking.jpg'}, {'name': 'twitter:creator', 'content': '@dailybruin'}], 'yoast_json_ld': [{'@context': 'https://schema.org', '@graph': [{'@type': 'Organization', '@id': 'https://dailybruin.com/#organization', 'name': 'Daily Bruin', 'url': 'https://dailybruin.com/', 'sameAs': ['https://www.facebook.com/dailybruin', 'https://www.instagram.com/dailybruin', 'https://www.youtube.com/user/ucladailybruin', 'https://twitter.com/dailybruin'], 'logo': {'@type': 'ImageObject', '@id': 'https://dailybruin.com/#logo', 'inLanguage': 'en-US', 'url': 'https://wp.dailybruin.com/images/2017/03/db-logo.png', 'width': 750, 'height': 750, 'caption': 'Daily Bruin'}, 'image': {'@id': 'https://dailybruin.com/#logo'}}, {'@type': 'WebSite', '@id': 'https://dailybruin.com/#website', 'url': 'https://dailybruin.com/', 'name': 'Daily Bruin', 'inLanguage': 'en-US', 'description': 'Since 1919', 'publisher': {'@id': 'https://dailybruin.com/#organization'}, 'potentialAction': {'@type': 'SearchAction', 'target': 'https://dailybruin.com/?s={search_term_string}', 'query-input': 'required name=search_term_string'}}, {'@type': 'ImageObject', '@id': 'https://dailybruin.com/category/breaking/nov-19-sjp#primaryimage', 'inLanguage': 'en-US', 'url': 'https://wp.dailybruin.com/images/2024/10/breaking.jpg', 'width': 1564, 'height': 946}, {'@type': 'WebPage', '@id': 'https://dailybruin.com/category/breaking/nov-19-sjp#webpage', 'url': 'https://dailybruin.com/category/breaking/nov-19-sjp', 'name': 'Nov. 19 Students for Justice in Palestine demonstration - Daily Bruin', 'isPartOf': {'@id': 'https://dailybruin.com/#website'}, 'inLanguage': 'en-US', 'primaryImageOfPage': {'@id': 'https://dailybruin.com/category/breaking/nov-19-sjp#primaryimage'}, 'datePublished': '2024-11-19T21:39:19+00:00', 'dateModified': '2024-11-20T01:06:15+00:00'}, {'@type': 'Article', '@id': 'https://dailybruin.com/category/breaking/nov-19-sjp#article', 'isPartOf': {'@id': 'https://dailybruin.com/category/breaking/nov-19-sjp#webpage'}, 'author': {'@id': 'https://dailybruin.com/#/schema/person/9d07b1911825382fb1dceba5af2c68ab'}, 'headline': 'Nov. 19 Students for Justice in Palestine demonstration', 'datePublished': '2024-11-19T21:39:19+00:00', 'dateModified': '2024-11-20T01:06:15+00:00', 'commentCount': 0, 'mainEntityOfPage': {'@id': 'https://dailybruin.com/category/breaking/nov-19-sjp#webpage'}, 'publisher': {'@id': 'https://dailybruin.com/#organization'}, 'image': {'@id': 'https://dailybruin.com/category/breaking/nov-19-sjp#primaryimage'}, 'keywords': 'db-story-c1', 'articleSection': 'Breaking News,News', 'inLanguage': 'en-US'}, {'@type': ['Person'], '@id': 'https://dailybruin.com/#/schema/person/9d07b1911825382fb1dceba5af2c68ab', 'name': 'Daily Bruin News', 'image': {'@type': 'ImageObject', '@id': 'https://dailybruin.com/#authorlogo', 'inLanguage': 'en-US', 'url': 'https://secure.gravatar.com/avatar/eaebb49e49deb58d3cca887c27eecc3e?s=96&d=mm&r=pg', 'caption': 'Daily Bruin News'}, 'sameAs': []}]}], '_links': {'self': [{'href': 'https://wp.dailybruin.com/wp-json/wp/v2/posts/474191'}], 'collection': [{'href': 'https://wp.dailybruin.com/wp-json/wp/v2/posts'}], 'about': [{'href': 'https://wp.dailybruin.com/wp-json/wp/v2/types/post'}], 'author': [{'embeddable': True, 'href': 'https://wp.dailybruin.com/wp-json/wp/v2/users/7831'}], 'replies': [{'embeddable': True, 'href': 'https://wp.dailybruin.com/wp-json/wp/v2/comments?post=474191'}], 'version-history': [{'count': 5, 'href': 'https://wp.dailybruin.com/wp-json/wp/v2/posts/474191/revisions'}], 'predecessor-version': [{'id': 474272, 'href': 'https://wp.dailybruin.com/wp-json/wp/v2/posts/474191/revisions/474272'}], 'wp:featuredmedia': [{'embeddable': True, 'href': 'https://wp.dailybruin.com/wp-json/wp/v2/media/471258'}], 'wp:attachment': [{'href': 'https://wp.dailybruin.com/wp-json/wp/v2/media?parent=474191'}], 'wp:term': [{'taxonomy': 'category', 'embeddable': True, 'href': 'https://wp.dailybruin.com/wp-json/wp/v2/categories?post=474191'}, {'taxonomy': 'post_tag', 'embeddable': True, 'href': 'https://wp.dailybruin.com/wp-json/wp/v2/tags?post=474191'}], 'curies': [{'name': 'wp', 'href': 'https://api.w.org/{rel}', 'templated': True}]}}\n",
      "Error generating embedding for article 474183: 400 Request payload size exceeds the limit: 10000 bytes. (index 273). Attempting to split into chunks...\n",
      "Successfully split into 5 chunks.\n",
      "Skipping article with missing content or ID: {'id': 474068, 'date': '2024-11-17T16:33:26', 'date_gmt': '2024-11-18T00:33:26', 'guid': {'rendered': 'https://dailybruin.com/?p=474068'}, 'modified': '2024-11-17T16:33:43', 'modified_gmt': '2024-11-18T00:33:43', 'slug': 'say-goodbye-to-fall-self-care', 'status': 'publish', 'type': 'post', 'link': 'https://dailybruin.com/2024/11/17/say-goodbye-to-fall-self-care/', 'title': {'rendered': 'Say Goodbye to Fall : Self-care'}, 'content': {'rendered': '', 'protected': False}, 'excerpt': {'rendered': '', 'protected': False}, 'author': 7887, 'featured_media': 474070, 'comment_status': 'closed', 'ping_status': 'closed', 'sticky': False, 'template': '', 'format': 'standard', 'meta': {'ngg_post_thumbnail': 0}, 'categories': [14070], 'tags': [4854], 'acf': {'db_article_format': 'default', 'db_subhead': '', 'db_infobox': '', 'db_display_options': None, 'db_number_of_paws': '', 'db_link': None, 'db_gallery_id': None, 'db_authoremail': None, 'corrections': '', 'db_feature': None, 'db_feature_tag': None, 'color': None, 'custom_styles': None, 'db_feature_photoratio': None, 'db_sponsored_disclaimer': None, 'db_sponsored_styles': None, 'list_items': None}, 'coauthors': [{'display_name': 'Jackie Barrientos', 'user_nicename': 'jackie-barrientos', 'id': 7887}], 'related_posts': [{'id': 451771}, {'id': 440624}, {'id': 469506}, {'id': 469833}], 'yoast_title': 'Say Goodbye to Fall : Self-care - Daily Bruin', 'yoast_meta': [{'name': 'robots', 'content': 'max-snippet:-1, max-image-preview:large, max-video-preview:-1'}, {'property': 'og:locale', 'content': 'en_US'}, {'property': 'og:type', 'content': 'article'}, {'property': 'og:title', 'content': 'Say Goodbye to Fall : Self-care - Daily Bruin'}, {'property': 'og:url', 'content': 'https://dailybruin.com/2024/11/17/say-goodbye-to-fall-self-care/'}, {'property': 'og:site_name', 'content': 'Daily Bruin'}, {'property': 'article:publisher', 'content': 'https://www.facebook.com/dailybruin'}, {'property': 'og:image', 'content': 'https://wp.dailybruin.com/images/2024/11/GoodbyeFall_Final-768x963.png'}, {'property': 'og:image:secure_url', 'content': 'https://wp.dailybruin.com/images/2024/11/GoodbyeFall_Final-768x963.png'}, {'property': 'og:image:width', 'content': '768'}, {'property': 'og:image:height', 'content': '963'}, {'name': 'twitter:card', 'content': 'summary_large_image'}, {'name': 'twitter:title', 'content': 'Say Goodbye to Fall : Self-care - Daily Bruin'}, {'name': 'twitter:site', 'content': '@dailybruin'}, {'name': 'twitter:image', 'content': 'https://wp.dailybruin.com/images/2024/11/GoodbyeFall_Final.png'}, {'name': 'twitter:creator', 'content': '@dailybruin'}], 'yoast_json_ld': [{'@context': 'https://schema.org', '@graph': [{'@type': 'Organization', '@id': 'https://dailybruin.com/#organization', 'name': 'Daily Bruin', 'url': 'https://dailybruin.com/', 'sameAs': ['https://www.facebook.com/dailybruin', 'https://www.instagram.com/dailybruin', 'https://www.youtube.com/user/ucladailybruin', 'https://twitter.com/dailybruin'], 'logo': {'@type': 'ImageObject', '@id': 'https://dailybruin.com/#logo', 'inLanguage': 'en-US', 'url': 'https://wp.dailybruin.com/images/2017/03/db-logo.png', 'width': 750, 'height': 750, 'caption': 'Daily Bruin'}, 'image': {'@id': 'https://dailybruin.com/#logo'}}, {'@type': 'WebSite', '@id': 'https://dailybruin.com/#website', 'url': 'https://dailybruin.com/', 'name': 'Daily Bruin', 'inLanguage': 'en-US', 'description': 'Since 1919', 'publisher': {'@id': 'https://dailybruin.com/#organization'}, 'potentialAction': {'@type': 'SearchAction', 'target': 'https://dailybruin.com/?s={search_term_string}', 'query-input': 'required name=search_term_string'}}, {'@type': 'ImageObject', '@id': 'https://dailybruin.com/2024/11/17/say-goodbye-to-fall-self-care/#primaryimage', 'inLanguage': 'en-US', 'url': 'https://wp.dailybruin.com/images/2024/11/GoodbyeFall_Final.png', 'width': 4309, 'height': 5405}, {'@type': 'WebPage', '@id': 'https://dailybruin.com/2024/11/17/say-goodbye-to-fall-self-care/#webpage', 'url': 'https://dailybruin.com/2024/11/17/say-goodbye-to-fall-self-care/', 'name': 'Say Goodbye to Fall : Self-care - Daily Bruin', 'isPartOf': {'@id': 'https://dailybruin.com/#website'}, 'inLanguage': 'en-US', 'primaryImageOfPage': {'@id': 'https://dailybruin.com/2024/11/17/say-goodbye-to-fall-self-care/#primaryimage'}, 'datePublished': '2024-11-18T00:33:26+00:00', 'dateModified': '2024-11-18T00:33:43+00:00'}, {'@type': 'Article', '@id': 'https://dailybruin.com/2024/11/17/say-goodbye-to-fall-self-care/#article', 'isPartOf': {'@id': 'https://dailybruin.com/2024/11/17/say-goodbye-to-fall-self-care/#webpage'}, 'author': {'@id': 'https://dailybruin.com/#/schema/person/af55a332323db2015715cea19535af58'}, 'headline': 'Say Goodbye to Fall : Self-care', 'datePublished': '2024-11-18T00:33:26+00:00', 'dateModified': '2024-11-18T00:33:43+00:00', 'commentCount': 0, 'mainEntityOfPage': {'@id': 'https://dailybruin.com/2024/11/17/say-goodbye-to-fall-self-care/#webpage'}, 'publisher': {'@id': 'https://dailybruin.com/#organization'}, 'image': {'@id': 'https://dailybruin.com/2024/11/17/say-goodbye-to-fall-self-care/#primaryimage'}, 'keywords': 'db-story-m1', 'articleSection': 'Graphics', 'inLanguage': 'en-US'}, {'@type': ['Person'], '@id': 'https://dailybruin.com/#/schema/person/af55a332323db2015715cea19535af58', 'name': 'Jackie Barrientos', 'image': {'@type': 'ImageObject', '@id': 'https://dailybruin.com/#authorlogo', 'inLanguage': 'en-US', 'url': 'https://secure.gravatar.com/avatar/a558c1cf3dea174b26d73f66a0930949?s=96&d=mm&r=pg', 'caption': 'Jackie Barrientos'}, 'sameAs': []}]}], '_links': {'self': [{'href': 'https://wp.dailybruin.com/wp-json/wp/v2/posts/474068'}], 'collection': [{'href': 'https://wp.dailybruin.com/wp-json/wp/v2/posts'}], 'about': [{'href': 'https://wp.dailybruin.com/wp-json/wp/v2/types/post'}], 'author': [{'embeddable': True, 'href': 'https://wp.dailybruin.com/wp-json/wp/v2/users/7887'}], 'replies': [{'embeddable': True, 'href': 'https://wp.dailybruin.com/wp-json/wp/v2/comments?post=474068'}], 'version-history': [{'count': 2, 'href': 'https://wp.dailybruin.com/wp-json/wp/v2/posts/474068/revisions'}], 'predecessor-version': [{'id': 474071, 'href': 'https://wp.dailybruin.com/wp-json/wp/v2/posts/474068/revisions/474071'}], 'wp:featuredmedia': [{'embeddable': True, 'href': 'https://wp.dailybruin.com/wp-json/wp/v2/media/474070'}], 'wp:attachment': [{'href': 'https://wp.dailybruin.com/wp-json/wp/v2/media?parent=474068'}], 'wp:term': [{'taxonomy': 'category', 'embeddable': True, 'href': 'https://wp.dailybruin.com/wp-json/wp/v2/categories?post=474068'}, {'taxonomy': 'post_tag', 'embeddable': True, 'href': 'https://wp.dailybruin.com/wp-json/wp/v2/tags?post=474068'}], 'curies': [{'name': 'wp', 'href': 'https://api.w.org/{rel}', 'templated': True}]}}\n",
      "Successfully embedded 302 articles\n"
     ]
    }
   ],
   "source": [
    "\n",
    "# Generate embeddings\n",
    "embeddings = []\n",
    "for article in articles:\n",
    "    content = article['content']['rendered']\n",
    "    article_id = str(article['id'])\n",
    "    \n",
    "    # Only run if there is both content to embed and an id to associate it with\n",
    "    if content and article_id:\n",
    "        try:\n",
    "            # Embed the article\n",
    "            embedArticle(genai, embeddings, EMBEDDING_MODEL, article)\n",
    "        \n",
    "        # The article may be too big. In that case, try splitting it into chunks\n",
    "        except Exception as e:\n",
    "            print(f\"Error generating embedding for article {article_id}: {e} (index {articles.index(article)}). Attempting to split into chunks...\")\n",
    "            \n",
    "            # Split text into chunks of up to 10000\n",
    "            text_splitter = RecursiveCharacterTextSplitter(chunk_size=(MODEL_MAX_CHUNKS-CHUNK_OVERLAP), chunk_overlap=CHUNK_OVERLAP)\n",
    "            texts = text_splitter.split_text(content)\n",
    "\n",
    "            # Embed the chunks\n",
    "            embed_success = embedChunksAsArticle(genai, embeddings, EMBEDDING_MODEL, article, texts)\n",
    "\n",
    "            # If the embed of chunks was successful, print to indicate\n",
    "            if (embed_success):\n",
    "                print(f\"Successfully split into {len(texts)} chunks.\")\n",
    "    # If the article is missing an id or content, skip it\n",
    "    else:\n",
    "        print(f\"Skipping article with missing content or ID: {article}\")\n",
    "\n",
    "print(f\"Successfully embedded {len(embeddings)} articles\")"
   ]
  },
  {
   "cell_type": "markdown",
   "metadata": {},
   "source": [
    "# Upsert Data"
   ]
  },
  {
   "cell_type": "code",
   "execution_count": 25,
   "metadata": {},
   "outputs": [
    {
     "data": {
      "text/plain": [
       "upserted_count: 302"
      ]
     },
     "execution_count": 25,
     "metadata": {},
     "output_type": "execute_result"
    }
   ],
   "source": [
    "# Wait for the index to be ready\n",
    "while not pc.describe_index(\"768dim\").status['ready']:\n",
    "    time.sleep(1)\n",
    "\n",
    "index = pc.Index(\"768dim\")\n",
    "\n",
    "index.upsert(\n",
    "    vectors=embeddings\n",
    ")"
   ]
  },
  {
   "cell_type": "code",
   "execution_count": 27,
   "metadata": {},
   "outputs": [
    {
     "name": "stdout",
     "output_type": "stream",
     "text": [
      "{'dimension': 768,\n",
      " 'index_fullness': 0.0,\n",
      " 'namespaces': {'': {'vector_count': 302}},\n",
      " 'total_vector_count': 302}\n"
     ]
    }
   ],
   "source": [
    "print(index.describe_index_stats())"
   ]
  },
  {
   "cell_type": "markdown",
   "metadata": {},
   "source": [
    "# Query"
   ]
  },
  {
   "cell_type": "code",
   "execution_count": 30,
   "metadata": {},
   "outputs": [],
   "source": [
    "query = \"How did UCLA handle stresses caused by the election?\"\n",
    "\n",
    "embedding = generateQueryEmbedding(genai=genai,\n",
    "                                   embedding_model=EMBEDDING_MODEL,\n",
    "                                   query=query)\n",
    "\n",
    "# Wait for the index to be ready\n",
    "while not pc.describe_index(\"768dim\").status['ready']:\n",
    "    time.sleep(1)\n",
    "\n",
    "index = pc.Index(\"768dim\")\n",
    "\n",
    "results = index.query(\n",
    "    vector=embedding,\n",
    "    top_k=5,\n",
    "    include_values=False,\n",
    "    include_metadata=True\n",
    ")"
   ]
  },
  {
   "cell_type": "markdown",
   "metadata": {},
   "source": [
    "# Generate Response\n"
   ]
  },
  {
   "cell_type": "code",
   "execution_count": 31,
   "metadata": {},
   "outputs": [
    {
     "name": "stdout",
     "output_type": "stream",
     "text": [
      "Based on the provided text, UCLA offered resources to help students manage election-related stress.  Octave, a mental health service, had outreach teams at UCLA voting centers on Election Day, providing resources like breathing exercises and access to therapy.  Many students reported increased stress due to the election, citing impacts on motivation, sleep, and focus.  Some students felt more animosity in this election than previous ones, and the uncertainty surrounding the results caused significant stress, particularly for non-citizens.  UCLA also hosted several election watch parties, which provided a community setting for students to share reactions and process their emotions.\n",
      "\n"
     ]
    }
   ],
   "source": [
    "model = genai.GenerativeModel(\"gemini-1.5-flash\")\n",
    "\n",
    "context = \"\"\n",
    "\n",
    "for result in results['matches']:\n",
    "    id = result['id']\n",
    "    article = fetchArticleById(id)\n",
    "    cleanedArticle = clean_article(article)\n",
    "\n",
    "    link = result['metadata']['link']\n",
    "    context += f\"\"\"\\nARTICLE START (Source: {link})\\n\n",
    "    {cleanedArticle}\n",
    "    \\nARTICLE END\\n\n",
    "    \"\"\"\n",
    "\n",
    "instructions = f\"\"\"\n",
    "You are an expert in whatever context is provided. Provide only factual information that you can back up using the context. Only mention facts, while keeping a light tone. Act like you are responding direclty to a question as a human.\n",
    "DO NOT SHARE REFERENCE URLS THAT ARE NOT INCLUDED IN THE CONTEXT BLOCK.\n",
    "You will not apologize for previous responses, but instead will indicate new information was gained.\n",
    "If user asks about or refers to the current \"workspace\" AI will refer to the the content after START CONTEXT BLOCK and before END OF CONTEXT BLOCK as the CONTEXT BLOCK. \n",
    "If you are asked to give quotes, please bias towards providing reference links to the original source of the quote.\n",
    "You will take into account any CONTEXT BLOCK that is provided in a conversation. It will say it does not know if the CONTEXT BLOCK is empty.\n",
    "You will not invent anything that is not drawn directly from the context.\n",
    "You will not answer questions that are not related to the context.\n",
    "The question that is being asked is below. Respond directly to this question only with the context provided.\n",
    "START QUESTION BLOCK\n",
    "{query}\n",
    "END QUESTION BLOCK\n",
    "\n",
    "START CONTEXT BLOCK\n",
    "{context}\n",
    "END OF CONTEXT BLOCK\n",
    "\"\"\"\n",
    "\n",
    "response = model.generate_content(instructions)\n",
    "print(response.text)"
   ]
  }
 ],
 "metadata": {
  "kernelspec": {
   "display_name": "dbLLM",
   "language": "python",
   "name": "python3"
  },
  "language_info": {
   "codemirror_mode": {
    "name": "ipython",
    "version": 3
   },
   "file_extension": ".py",
   "mimetype": "text/x-python",
   "name": "python",
   "nbconvert_exporter": "python",
   "pygments_lexer": "ipython3",
   "version": "3.9.6"
  }
 },
 "nbformat": 4,
 "nbformat_minor": 2
}
